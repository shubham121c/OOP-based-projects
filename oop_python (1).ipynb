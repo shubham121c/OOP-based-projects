{
  "nbformat": 4,
  "nbformat_minor": 0,
  "metadata": {
    "colab": {
      "provenance": []
    },
    "kernelspec": {
      "name": "python3",
      "display_name": "Python 3"
    },
    "language_info": {
      "name": "python"
    }
  },
  "cells": [
    {
      "cell_type": "markdown",
      "source": [
        "l=[1,3,4] l is object of list class\n",
        "datatype is class and the variable is object\n",
        "\n",
        "class is blueprint\n",
        "class has two things 1) data or property or attribute  2) function or behavior or method\n",
        "\n",
        "Example car: data-discription like colour, wheel size etc, function can be like open airbags, play music, calculate avg speed\n",
        "\n",
        "\n",
        "object is and instance of the class\n",
        "L=class()\n",
        "or l=[1,2,4] object literal for built in class\n",
        "\n",
        "\n",
        "method is function which is written in class\n",
        "example(len(L) function) l.append(1) why 2 ways to class a function\n",
        "because len is a function and append is function written in class(method)\n",
        "i.e. len can be used on strings, list etc. where as append is specific to list"
      ],
      "metadata": {
        "id": "ikZM-VAafpXw"
      }
    },
    {
      "cell_type": "code",
      "execution_count": null,
      "metadata": {
        "id": "bdR6vPFFflJS"
      },
      "outputs": [],
      "source": [
        "class Atm:\n",
        "  # constructor\n",
        "  # special function/method which excicutes \n",
        "  # automatically when u creat a object of class \n",
        "  def __init__(self):\n",
        "    # creating variables in the constructor\n",
        "    self.pin=''\n",
        "    self.balance=0\n",
        "\n",
        "    self.menu()\n",
        "    \n",
        "  def menu(self):\n",
        "    user_input= input(''' Hello, how would you like to proceed?\n",
        "                            1. enter 1 to create pin\n",
        "                            2. enter 2 to deposit\n",
        "                            3. enter 3 to withdraw\n",
        "                            4. enter 4 to check balance\n",
        "                            5. enter 5 to exit \n",
        "                            ''')\n",
        "    if user_input=='1':\n",
        "      self.create_pin()\n",
        "    elif user_input=='2':\n",
        "      self.deposit()\n",
        "    elif user_input=='3':\n",
        "      self.withdraw()\n",
        "    elif user_input=='4':\n",
        "      self.check_balance()\n",
        "    else:\n",
        "      print('exit')\n",
        "    # creating diffrent methods to access all above functionalties\n",
        "  def create_pin(self):\n",
        "    self.pin=input('enter your pin')\n",
        "    print('pin set sucessfully!')\n",
        "\n",
        "  def deposit(self):\n",
        "    temp=input('enter your pin')\n",
        "    if temp==self.pin:\n",
        "      amount=int(input('enter the amount'))\n",
        "      self.balance=self.balance+ amount\n",
        "      print('deposit sucess')\n",
        "    else:\n",
        "      print('Wrong pin')\n",
        "\n",
        "  def withdraw(self):\n",
        "    temp=input('enter your pin')\n",
        "    if temp==self.pin:\n",
        "      amount=int(input('enter the amount'))\n",
        "      if amount<self.balance:\n",
        "        self.balance=self.balance-amount\n",
        "        print('operation sucessful')\n",
        "      else:\n",
        "          print('tu gareeb he')\n",
        "    else:\n",
        "      print('invalid pin')\n",
        "\n",
        "  def check_balance(self):\n",
        "    temp=input('enter your pin')\n",
        "    if temp==self.pin:\n",
        "      print(self.balance)\n",
        "    else:\n",
        "      print('invalid pin')\n",
        "\n",
        "\n",
        "\n"
      ]
    },
    {
      "cell_type": "code",
      "source": [
        "sb=Atm()"
      ],
      "metadata": {
        "colab": {
          "base_uri": "https://localhost:8080/"
        },
        "id": "sACjA3G1AXB6",
        "outputId": "bd220dba-a7af-43a5-d924-06ce3aca97c8"
      },
      "execution_count": null,
      "outputs": [
        {
          "output_type": "stream",
          "name": "stdout",
          "text": [
            " Hello, how would you like to proceed?\n",
            "                            1. enter 1 to create pin\n",
            "                            2. enter 2 to deposit\n",
            "                            3. enter 3 to withdraw\n",
            "                            4. enter 4 to check balance\n",
            "                            5. enter 5 to exit \n",
            "                            1\n",
            "enter your pin123\n",
            "pin set sucessfully!\n"
          ]
        }
      ]
    },
    {
      "cell_type": "code",
      "source": [
        "sb.deposit()\n"
      ],
      "metadata": {
        "colab": {
          "base_uri": "https://localhost:8080/"
        },
        "id": "DsSJfOF9AW7F",
        "outputId": "ddfc8a1c-d627-45e5-bdab-54006e6ecb47"
      },
      "execution_count": null,
      "outputs": [
        {
          "output_type": "stream",
          "name": "stdout",
          "text": [
            "enter your pin123\n",
            "enter the amount2500\n",
            "deposit sucess\n"
          ]
        }
      ]
    },
    {
      "cell_type": "code",
      "source": [
        "sb.check_balance()"
      ],
      "metadata": {
        "colab": {
          "base_uri": "https://localhost:8080/"
        },
        "id": "Ta94uki3DHDn",
        "outputId": "4211afed-c31e-465c-b588-97f22dd56124"
      },
      "execution_count": null,
      "outputs": [
        {
          "output_type": "stream",
          "name": "stdout",
          "text": [
            "enter your pin123\n",
            "2500\n"
          ]
        }
      ]
    },
    {
      "cell_type": "code",
      "source": [
        "abc=Atm()"
      ],
      "metadata": {
        "colab": {
          "base_uri": "https://localhost:8080/"
        },
        "id": "tOm7NazpB8Jp",
        "outputId": "b9282856-a730-426e-a733-8d395eec6f10"
      },
      "execution_count": null,
      "outputs": [
        {
          "output_type": "stream",
          "name": "stdout",
          "text": [
            " Hello, how would you like to proceed?\n",
            "                            1. enter 1 to create pin\n",
            "                            2. enter 2 to deposit\n",
            "                            3. enter 3 to withdraw\n",
            "                            4. enter 4 to check balance\n",
            "                            5. enter 5 to exit \n",
            "                            1\n",
            "enter your pin789\n",
            "pin set sucessfully!\n"
          ]
        }
      ]
    },
    {
      "cell_type": "code",
      "source": [
        "abc.deposit()"
      ],
      "metadata": {
        "colab": {
          "base_uri": "https://localhost:8080/"
        },
        "id": "guNVN6CnEI9Q",
        "outputId": "85683620-41ca-488c-ab88-f1d0f9729071"
      },
      "execution_count": null,
      "outputs": [
        {
          "output_type": "stream",
          "name": "stdout",
          "text": [
            "enter your pin789\n",
            "enter the amount230000\n",
            "deposit sucess\n"
          ]
        }
      ]
    },
    {
      "cell_type": "code",
      "source": [
        "abc.withdraw()"
      ],
      "metadata": {
        "colab": {
          "base_uri": "https://localhost:8080/"
        },
        "id": "nBG65GR1ESAx",
        "outputId": "90455031-6b13-4634-ccef-30f30f82ac87"
      },
      "execution_count": null,
      "outputs": [
        {
          "output_type": "stream",
          "name": "stdout",
          "text": [
            "enter your pin789\n",
            "enter the amount23000\n",
            "operation sucessful\n"
          ]
        }
      ]
    },
    {
      "cell_type": "code",
      "source": [
        "abc.check_balance()\n"
      ],
      "metadata": {
        "colab": {
          "base_uri": "https://localhost:8080/"
        },
        "id": "VEkEMNWxEcxS",
        "outputId": "399efb40-f068-43a9-a42e-65b5c0d76508"
      },
      "execution_count": null,
      "outputs": [
        {
          "output_type": "stream",
          "name": "stdout",
          "text": [
            "enter your pin789\n",
            "207000\n"
          ]
        }
      ]
    },
    {
      "cell_type": "code",
      "source": [
        "sb.check_balance()"
      ],
      "metadata": {
        "colab": {
          "base_uri": "https://localhost:8080/"
        },
        "id": "n-0Frc3sE6n8",
        "outputId": "cd389958-adc7-4377-af2f-b32ecb367e27"
      },
      "execution_count": null,
      "outputs": [
        {
          "output_type": "stream",
          "name": "stdout",
          "text": [
            "enter your pin123\n",
            "2500\n"
          ]
        }
      ]
    },
    {
      "cell_type": "code",
      "source": [
        "class Person:\n",
        "  def __init__(self, name, age):\n",
        "    self.name = name\n",
        "    self.age = age\n",
        "\n",
        "p1 = Person(\"John\", 36)\n",
        "\n",
        "print(p1.name)\n",
        "print(p1.age)"
      ],
      "metadata": {
        "colab": {
          "base_uri": "https://localhost:8080/"
        },
        "id": "c0vjhrB0rize",
        "outputId": "4237fd35-0b7f-4431-9439-5164d1ba2833"
      },
      "execution_count": null,
      "outputs": [
        {
          "output_type": "stream",
          "name": "stdout",
          "text": [
            "John\n",
            "36\n"
          ]
        }
      ]
    }
  ]
}